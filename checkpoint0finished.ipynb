{
 "cells": [
  {
   "cell_type": "markdown",
   "metadata": {
    "colab_type": "text",
    "id": "0a8IYAJUshu1",
    "pycharm": {
     "name": "#%% md\n"
    }
   },
   "source": [
    "# Checkpoint 0 "
   ]
  },
  {
   "cell_type": "markdown",
   "metadata": {
    "pycharm": {
     "name": "#%% md\n"
    }
   },
   "source": [
    "These exercises are a mix of Python and Pandas practice. Most should be no more than a few lines of code!"
   ]
  },
  {
   "cell_type": "markdown",
   "source": [],
   "metadata": {
    "collapsed": false,
    "pycharm": {
     "name": "#%% md\n"
    }
   }
  },
  {
   "cell_type": "code",
   "execution_count": 20,
   "metadata": {
    "colab": {},
    "colab_type": "code",
    "id": "Jo6wuTgkshu1",
    "pycharm": {
     "name": "#%%\n"
    }
   },
   "outputs": [],
   "source": [
    "# here is a Python list:\n",
    "\n",
    "a = [1, 2, 3, 4, 5, 6]\n"
   ]
  },
  {
   "cell_type": "code",
   "execution_count": 21,
   "id": "779d96b1",
   "metadata": {
    "pycharm": {
     "name": "#%%\n"
    }
   },
   "outputs": [
    {
     "name": "stdout",
     "output_type": "stream",
     "text": [
      "[4, 5, 6]\n"
     ]
    }
   ],
   "source": [
    "# get a list containing the last 3 elements of a\n",
    "# Yes, you can just type out [4, 5, 6] but we really want to see you demonstrate you know how to do that in Python\n",
    "\n",
    "print(a[3:])"
   ]
  },
  {
   "cell_type": "markdown",
   "source": [],
   "metadata": {
    "collapsed": false,
    "pycharm": {
     "name": "#%% md\n"
    }
   }
  },
  {
   "cell_type": "code",
   "execution_count": 22,
   "id": "b6a54def",
   "metadata": {
    "pycharm": {
     "name": "#%%\n"
    }
   },
   "outputs": [
    {
     "data": {
      "text/plain": "[1,\n 2,\n 3,\n 4,\n 5,\n 6,\n 7,\n 8,\n 9,\n 10,\n 11,\n 12,\n 13,\n 14,\n 15,\n 16,\n 17,\n 18,\n 19,\n 20,\n 21,\n 22,\n 23,\n 24,\n 25,\n 26,\n 27,\n 28,\n 29,\n 30,\n 31,\n 32,\n 33,\n 34,\n 35,\n 36,\n 37,\n 38,\n 39,\n 40,\n 41,\n 42,\n 43,\n 44,\n 45,\n 46,\n 47,\n 48,\n 49,\n 50,\n 51,\n 52,\n 53,\n 54,\n 55,\n 56,\n 57,\n 58,\n 59,\n 60,\n 61,\n 62,\n 63,\n 64,\n 65,\n 66,\n 67,\n 68,\n 69,\n 70,\n 71,\n 72,\n 73,\n 74,\n 75,\n 76,\n 77,\n 78,\n 79,\n 80,\n 81,\n 82,\n 83,\n 84,\n 85,\n 86,\n 87,\n 88,\n 89,\n 90,\n 91,\n 92,\n 93,\n 94,\n 95,\n 96,\n 97,\n 98,\n 99]"
     },
     "execution_count": 22,
     "metadata": {},
     "output_type": "execute_result"
    }
   ],
   "source": [
    "# create a list of numbers from 1 to 100\n",
    "jayslist = list(range(1,100))\n",
    "jayslist"
   ]
  },
  {
   "cell_type": "code",
   "execution_count": 23,
   "id": "487873ac",
   "metadata": {
    "pycharm": {
     "name": "#%%\n"
    }
   },
   "outputs": [
    {
     "data": {
      "text/plain": "[2,\n 4,\n 6,\n 8,\n 10,\n 12,\n 14,\n 16,\n 18,\n 20,\n 22,\n 24,\n 26,\n 28,\n 30,\n 32,\n 34,\n 36,\n 38,\n 40,\n 42,\n 44,\n 46,\n 48,\n 50,\n 52,\n 54,\n 56,\n 58,\n 60,\n 62,\n 64,\n 66,\n 68,\n 70,\n 72,\n 74,\n 76,\n 78,\n 80,\n 82,\n 84,\n 86,\n 88,\n 90,\n 92,\n 94,\n 96,\n 98]"
     },
     "execution_count": 23,
     "metadata": {},
     "output_type": "execute_result"
    }
   ],
   "source": [
    "# now get a list with only the even numbers between 1 and 100\n",
    "# you may or may not make use of the list you made in the last cell\n",
    "jaysevenlist=[]\n",
    "for i in jayslist:\n",
    "    if i%2 == 0:\n",
    "        jaysevenlist.append(i)\n",
    "jaysevenlist"
   ]
  },
  {
   "cell_type": "code",
   "execution_count": 24,
   "id": "3d4bb5dd",
   "metadata": {
    "pycharm": {
     "name": "#%%\n"
    }
   },
   "outputs": [],
   "source": [
    "# write a function that takes two numbers as arguments\n",
    "# and returns the first number divided by the second\n",
    "\n",
    "def division(x,y):\n",
    "    return x/y"
   ]
  },
  {
   "cell_type": "code",
   "execution_count": 25,
   "id": "b93669fa",
   "metadata": {
    "pycharm": {
     "name": "#%%\n"
    }
   },
   "outputs": [],
   "source": [
    "# write a function that takes a string as input\n",
    "# and return that string in all caps\n",
    "\n",
    "def caps(x):\n",
    "    return x.upper()\n"
   ]
  },
  {
   "cell_type": "code",
   "execution_count": 26,
   "id": "f55df04e",
   "metadata": {
    "pycharm": {
     "name": "#%%\n"
    }
   },
   "outputs": [
    {
     "name": "stdout",
     "output_type": "stream",
     "text": [
      "1\n",
      "2\n",
      "fizz\n",
      "4\n",
      "buzz\n",
      "fizz\n",
      "7\n",
      "8\n",
      "fizz\n",
      "buzz\n",
      "11\n",
      "fizz\n",
      "13\n",
      "14\n",
      "fizzbuzz\n",
      "16\n",
      "17\n",
      "fizz\n",
      "19\n",
      "buzz\n",
      "fizz\n",
      "22\n",
      "23\n",
      "fizz\n",
      "buzz\n",
      "26\n",
      "fizz\n",
      "28\n",
      "29\n",
      "fizzbuzz\n",
      "31\n",
      "32\n",
      "fizz\n",
      "34\n",
      "buzz\n",
      "fizz\n",
      "37\n",
      "38\n",
      "fizz\n",
      "buzz\n",
      "41\n",
      "fizz\n",
      "43\n",
      "44\n",
      "fizzbuzz\n",
      "46\n",
      "47\n",
      "fizz\n",
      "49\n",
      "buzz\n",
      "fizz\n",
      "52\n",
      "53\n",
      "fizz\n",
      "buzz\n",
      "56\n",
      "fizz\n",
      "58\n",
      "59\n",
      "fizzbuzz\n",
      "61\n",
      "62\n",
      "fizz\n",
      "64\n",
      "buzz\n",
      "fizz\n",
      "67\n",
      "68\n",
      "fizz\n",
      "buzz\n",
      "71\n",
      "fizz\n",
      "73\n",
      "74\n",
      "fizzbuzz\n",
      "76\n",
      "77\n",
      "fizz\n",
      "79\n",
      "buzz\n",
      "fizz\n",
      "82\n",
      "83\n",
      "fizz\n",
      "buzz\n",
      "86\n",
      "fizz\n",
      "88\n",
      "89\n",
      "fizzbuzz\n",
      "91\n",
      "92\n",
      "fizz\n",
      "94\n",
      "buzz\n",
      "fizz\n",
      "97\n",
      "98\n",
      "fizz\n"
     ]
    }
   ],
   "source": [
    "# optional challenge - fizzbuzz\n",
    "# you will need to use both iteration and control flow \n",
    "# go through all numbers from 1 to 100 in order\n",
    "# if the number is a multiple of 3, print fizz\n",
    "# if the number is a multiple of 5, print buzz\n",
    "# if the number is a multiple of 3 and 5, print fizzbuzz and NOTHING ELSE\n",
    "# if the number is neither a multiple of 3 nor a multiple of 5, print the number\n",
    "\n",
    "x=3\n",
    "y=5\n",
    "\n",
    "for i in range(1,100):\n",
    "    if i%x == 0 and i%y == 0:\n",
    "        print(\"fizzbuzz\")\n",
    "    elif i%x == 0 and i%y != 0:\n",
    "        print(\"fizz\")\n",
    "    elif i%x != 0 and i%y == 0:\n",
    "        print(\"buzz\")\n",
    "    elif i%x != 0 and i%y != 0:\n",
    "        print(i)"
   ]
  },
  {
   "cell_type": "code",
   "execution_count": 27,
   "id": "78aace0b",
   "metadata": {
    "pycharm": {
     "name": "#%%\n"
    }
   },
   "outputs": [],
   "source": [
    "# create a dictionary that reflects the following menu pricing (taken from Ahmo's)\n",
    "# Gyro: $9 \n",
    "# Burger: $9\n",
    "# Greek Salad: $8\n",
    "# Philly Steak: $10\n",
    "\n",
    "Ahmos = {\"Gyro\": 9, \"Burger\": 9, \"Greek Salad\": 8, \"Philly Steak\": 10}"
   ]
  },
  {
   "cell_type": "code",
   "execution_count": 28,
   "metadata": {
    "colab": {},
    "colab_type": "code",
    "id": "WzCQ5HOJshvA",
    "pycharm": {
     "name": "#%%\n"
    }
   },
   "outputs": [
    {
     "data": {
      "text/plain": "            beverage_category                                    beverage  \\\n0                      coffee                               brewed coffee   \n1                      coffee                               brewed coffee   \n2                      coffee                               brewed coffee   \n3                      coffee                               brewed coffee   \n4     classic espresso drinks                                  caff latte   \n..                        ...                                         ...   \n237  frappuccino blended crme  strawberries  crme (without whipped cream)   \n238  frappuccino blended crme        vanilla bean (without whipped cream)   \n239  frappuccino blended crme        vanilla bean (without whipped cream)   \n240  frappuccino blended crme        vanilla bean (without whipped cream)   \n241  frappuccino blended crme        vanilla bean (without whipped cream)   \n\n          beverage_prep  calories  total fat  trans fat  saturated fat  \\\n0                 Short         3        0.1        0.0            0.0   \n1                  Tall         4        0.1        0.0            0.0   \n2                Grande         5        0.1        0.0            0.0   \n3                 Venti         5        0.1        0.0            0.0   \n4     Short Nonfat Milk        70        0.1        0.1            0.0   \n..                  ...       ...        ...        ...            ...   \n237             Soymilk       320        3.2        0.4            0.0   \n238    Tall Nonfat Milk       170        0.1        0.1            0.0   \n239          Whole Milk       200        3.5        2.0            0.1   \n240             Soymilk       180        1.5        0.2            0.0   \n241  Grande Nonfat Milk       240        0.1        0.1            0.0   \n\n     sodium  total carbohydrates  cholesterol  dietary fibre  sugars  protein  \\\n0         0                    5            0              0       0      0.3   \n1         0                   10            0              0       0      0.5   \n2         0                   10            0              0       0      1.0   \n3         0                   10            0              0       0      1.0   \n4         5                   75           10              0       9      6.0   \n..      ...                  ...          ...            ...     ...      ...   \n237       0                  250           67              1      64      5.0   \n238       0                  160           39              0      38      4.0   \n239      10                  160           39              0      38      3.0   \n240       0                  160           37              1      35      3.0   \n241       5                  230           56              0      55      5.0   \n\n     vitamin a  vitamin c  calcium  iron  caffeine  \n0            0          0        0   0.0     175.0  \n1            0          0        0   0.0     260.0  \n2            0          0        0   0.0     330.0  \n3            0          0        2   0.0     410.0  \n4           10          0       20   0.0      75.0  \n..         ...        ...      ...   ...       ...  \n237          6          8       20  10.0       0.0  \n238          6          0       10   0.0       0.0  \n239          6          0       10   0.0       0.0  \n240          4          0       10   6.0       0.0  \n241          8          0       15   0.0       0.0  \n\n[242 rows x 18 columns]",
      "text/html": "<div>\n<style scoped>\n    .dataframe tbody tr th:only-of-type {\n        vertical-align: middle;\n    }\n\n    .dataframe tbody tr th {\n        vertical-align: top;\n    }\n\n    .dataframe thead th {\n        text-align: right;\n    }\n</style>\n<table border=\"1\" class=\"dataframe\">\n  <thead>\n    <tr style=\"text-align: right;\">\n      <th></th>\n      <th>beverage_category</th>\n      <th>beverage</th>\n      <th>beverage_prep</th>\n      <th>calories</th>\n      <th>total fat</th>\n      <th>trans fat</th>\n      <th>saturated fat</th>\n      <th>sodium</th>\n      <th>total carbohydrates</th>\n      <th>cholesterol</th>\n      <th>dietary fibre</th>\n      <th>sugars</th>\n      <th>protein</th>\n      <th>vitamin a</th>\n      <th>vitamin c</th>\n      <th>calcium</th>\n      <th>iron</th>\n      <th>caffeine</th>\n    </tr>\n  </thead>\n  <tbody>\n    <tr>\n      <th>0</th>\n      <td>coffee</td>\n      <td>brewed coffee</td>\n      <td>Short</td>\n      <td>3</td>\n      <td>0.1</td>\n      <td>0.0</td>\n      <td>0.0</td>\n      <td>0</td>\n      <td>5</td>\n      <td>0</td>\n      <td>0</td>\n      <td>0</td>\n      <td>0.3</td>\n      <td>0</td>\n      <td>0</td>\n      <td>0</td>\n      <td>0.0</td>\n      <td>175.0</td>\n    </tr>\n    <tr>\n      <th>1</th>\n      <td>coffee</td>\n      <td>brewed coffee</td>\n      <td>Tall</td>\n      <td>4</td>\n      <td>0.1</td>\n      <td>0.0</td>\n      <td>0.0</td>\n      <td>0</td>\n      <td>10</td>\n      <td>0</td>\n      <td>0</td>\n      <td>0</td>\n      <td>0.5</td>\n      <td>0</td>\n      <td>0</td>\n      <td>0</td>\n      <td>0.0</td>\n      <td>260.0</td>\n    </tr>\n    <tr>\n      <th>2</th>\n      <td>coffee</td>\n      <td>brewed coffee</td>\n      <td>Grande</td>\n      <td>5</td>\n      <td>0.1</td>\n      <td>0.0</td>\n      <td>0.0</td>\n      <td>0</td>\n      <td>10</td>\n      <td>0</td>\n      <td>0</td>\n      <td>0</td>\n      <td>1.0</td>\n      <td>0</td>\n      <td>0</td>\n      <td>0</td>\n      <td>0.0</td>\n      <td>330.0</td>\n    </tr>\n    <tr>\n      <th>3</th>\n      <td>coffee</td>\n      <td>brewed coffee</td>\n      <td>Venti</td>\n      <td>5</td>\n      <td>0.1</td>\n      <td>0.0</td>\n      <td>0.0</td>\n      <td>0</td>\n      <td>10</td>\n      <td>0</td>\n      <td>0</td>\n      <td>0</td>\n      <td>1.0</td>\n      <td>0</td>\n      <td>0</td>\n      <td>2</td>\n      <td>0.0</td>\n      <td>410.0</td>\n    </tr>\n    <tr>\n      <th>4</th>\n      <td>classic espresso drinks</td>\n      <td>caff latte</td>\n      <td>Short Nonfat Milk</td>\n      <td>70</td>\n      <td>0.1</td>\n      <td>0.1</td>\n      <td>0.0</td>\n      <td>5</td>\n      <td>75</td>\n      <td>10</td>\n      <td>0</td>\n      <td>9</td>\n      <td>6.0</td>\n      <td>10</td>\n      <td>0</td>\n      <td>20</td>\n      <td>0.0</td>\n      <td>75.0</td>\n    </tr>\n    <tr>\n      <th>...</th>\n      <td>...</td>\n      <td>...</td>\n      <td>...</td>\n      <td>...</td>\n      <td>...</td>\n      <td>...</td>\n      <td>...</td>\n      <td>...</td>\n      <td>...</td>\n      <td>...</td>\n      <td>...</td>\n      <td>...</td>\n      <td>...</td>\n      <td>...</td>\n      <td>...</td>\n      <td>...</td>\n      <td>...</td>\n      <td>...</td>\n    </tr>\n    <tr>\n      <th>237</th>\n      <td>frappuccino blended crme</td>\n      <td>strawberries  crme (without whipped cream)</td>\n      <td>Soymilk</td>\n      <td>320</td>\n      <td>3.2</td>\n      <td>0.4</td>\n      <td>0.0</td>\n      <td>0</td>\n      <td>250</td>\n      <td>67</td>\n      <td>1</td>\n      <td>64</td>\n      <td>5.0</td>\n      <td>6</td>\n      <td>8</td>\n      <td>20</td>\n      <td>10.0</td>\n      <td>0.0</td>\n    </tr>\n    <tr>\n      <th>238</th>\n      <td>frappuccino blended crme</td>\n      <td>vanilla bean (without whipped cream)</td>\n      <td>Tall Nonfat Milk</td>\n      <td>170</td>\n      <td>0.1</td>\n      <td>0.1</td>\n      <td>0.0</td>\n      <td>0</td>\n      <td>160</td>\n      <td>39</td>\n      <td>0</td>\n      <td>38</td>\n      <td>4.0</td>\n      <td>6</td>\n      <td>0</td>\n      <td>10</td>\n      <td>0.0</td>\n      <td>0.0</td>\n    </tr>\n    <tr>\n      <th>239</th>\n      <td>frappuccino blended crme</td>\n      <td>vanilla bean (without whipped cream)</td>\n      <td>Whole Milk</td>\n      <td>200</td>\n      <td>3.5</td>\n      <td>2.0</td>\n      <td>0.1</td>\n      <td>10</td>\n      <td>160</td>\n      <td>39</td>\n      <td>0</td>\n      <td>38</td>\n      <td>3.0</td>\n      <td>6</td>\n      <td>0</td>\n      <td>10</td>\n      <td>0.0</td>\n      <td>0.0</td>\n    </tr>\n    <tr>\n      <th>240</th>\n      <td>frappuccino blended crme</td>\n      <td>vanilla bean (without whipped cream)</td>\n      <td>Soymilk</td>\n      <td>180</td>\n      <td>1.5</td>\n      <td>0.2</td>\n      <td>0.0</td>\n      <td>0</td>\n      <td>160</td>\n      <td>37</td>\n      <td>1</td>\n      <td>35</td>\n      <td>3.0</td>\n      <td>4</td>\n      <td>0</td>\n      <td>10</td>\n      <td>6.0</td>\n      <td>0.0</td>\n    </tr>\n    <tr>\n      <th>241</th>\n      <td>frappuccino blended crme</td>\n      <td>vanilla bean (without whipped cream)</td>\n      <td>Grande Nonfat Milk</td>\n      <td>240</td>\n      <td>0.1</td>\n      <td>0.1</td>\n      <td>0.0</td>\n      <td>5</td>\n      <td>230</td>\n      <td>56</td>\n      <td>0</td>\n      <td>55</td>\n      <td>5.0</td>\n      <td>8</td>\n      <td>0</td>\n      <td>15</td>\n      <td>0.0</td>\n      <td>0.0</td>\n    </tr>\n  </tbody>\n</table>\n<p>242 rows × 18 columns</p>\n</div>"
     },
     "execution_count": 28,
     "metadata": {},
     "output_type": "execute_result"
    }
   ],
   "source": [
    "# load in the \"starbucks.csv\" dataset\n",
    "# refer to how we read the cereal.csv dataset in the tutorial\n",
    "import pandas as pd\n",
    "\n",
    "starbucks=pd.read_csv(r\"C:\\Users\\jay\\OneDrive\\Documents\\GitHub\\MDST-Tutorial-Redesign\\data\\starbucks.csv\")\n",
    "\n",
    "starbucks"
   ]
  },
  {
   "cell_type": "code",
   "execution_count": 41,
   "id": "68210b5f",
   "metadata": {
    "pycharm": {
     "name": "#%%\n"
    }
   },
   "outputs": [
    {
     "data": {
      "text/plain": "     calories  sugars  protein\n0           3       0      0.3\n40          5       0      0.4\n80        350      58     15.0\n120       140      20      6.0\n160       110      24      2.0\n200       200      41      3.0\n240       180      35      3.0",
      "text/html": "<div>\n<style scoped>\n    .dataframe tbody tr th:only-of-type {\n        vertical-align: middle;\n    }\n\n    .dataframe tbody tr th {\n        vertical-align: top;\n    }\n\n    .dataframe thead th {\n        text-align: right;\n    }\n</style>\n<table border=\"1\" class=\"dataframe\">\n  <thead>\n    <tr style=\"text-align: right;\">\n      <th></th>\n      <th>calories</th>\n      <th>sugars</th>\n      <th>protein</th>\n    </tr>\n  </thead>\n  <tbody>\n    <tr>\n      <th>0</th>\n      <td>3</td>\n      <td>0</td>\n      <td>0.3</td>\n    </tr>\n    <tr>\n      <th>40</th>\n      <td>5</td>\n      <td>0</td>\n      <td>0.4</td>\n    </tr>\n    <tr>\n      <th>80</th>\n      <td>350</td>\n      <td>58</td>\n      <td>15.0</td>\n    </tr>\n    <tr>\n      <th>120</th>\n      <td>140</td>\n      <td>20</td>\n      <td>6.0</td>\n    </tr>\n    <tr>\n      <th>160</th>\n      <td>110</td>\n      <td>24</td>\n      <td>2.0</td>\n    </tr>\n    <tr>\n      <th>200</th>\n      <td>200</td>\n      <td>41</td>\n      <td>3.0</td>\n    </tr>\n    <tr>\n      <th>240</th>\n      <td>180</td>\n      <td>35</td>\n      <td>3.0</td>\n    </tr>\n  </tbody>\n</table>\n</div>"
     },
     "execution_count": 41,
     "metadata": {},
     "output_type": "execute_result"
    }
   ],
   "source": [
    "# output the calories, sugars, and protein columns only of every 40th row.\n",
    "\n",
    "starbucks[[\"calories\", \"sugars\", \"protein\"]].iloc[::40]"
   ]
  },
  {
   "cell_type": "code",
   "execution_count": 43,
   "id": "ac0f0c12",
   "metadata": {
    "pycharm": {
     "name": "#%%\n"
    }
   },
   "outputs": [
    {
     "data": {
      "text/plain": "              beverage_category  \\\n81    signature espresso drinks   \n83    signature espresso drinks   \n84    signature espresso drinks   \n85    signature espresso drinks   \n128             tazo tea drinks   \n214  frappuccino blended coffee   \n215  frappuccino blended coffee   \n216  frappuccino blended coffee   \n\n                                          beverage      beverage_prep  \\\n81   white chocolate mocha (without whipped cream)            2% Milk   \n83   white chocolate mocha (without whipped cream)  Venti Nonfat Milk   \n84   white chocolate mocha (without whipped cream)            2% Milk   \n85   white chocolate mocha (without whipped cream)            Soymilk   \n128                           tazo green tea latte            2% Milk   \n214              java chip (without whipped cream)  Venti Nonfat Milk   \n215              java chip (without whipped cream)         Whole Milk   \n216              java chip (without whipped cream)            Soymilk   \n\n     calories  total fat  trans fat  saturated fat  sodium  \\\n81        400       11.0        7.0            0.2      25   \n83        450        7.0        6.0            0.0      10   \n84        510       15.0        9.0            0.2      35   \n85        460       13.0        6.0            0.0       5   \n128       450       10.0        5.0            0.3      40   \n214       420        5.0        4.0            0.0       5   \n215       460       10.0        7.0            0.2      15   \n216       430        8.0        4.5            0.0       0   \n\n     total carbohydrates  cholesterol  dietary fibre  sugars  protein  \\\n81                   250           61              0      58     15.0   \n83                   310           78              0      74     19.0   \n84                   330           77              0      74     19.0   \n85                   290           70              1      64     16.0   \n128                  230           72              2      71     17.0   \n214                  340           90              2      84      7.0   \n215                  340           90              2      84      7.0   \n216                  330           88              3      80      6.0   \n\n     vitamin a  vitamin c  calcium  iron  caffeine  \n81          15          2       45   0.0     150.0  \n83          25          2       60   2.0     150.0  \n84          20          4       60   2.0     150.0  \n85          15          2       60  20.0     150.0  \n128         25         20       50   6.0     110.0  \n214         10          0       20  35.0     145.0  \n215          6          0       15  35.0     145.0  \n216          6          0       20  40.0     145.0  ",
      "text/html": "<div>\n<style scoped>\n    .dataframe tbody tr th:only-of-type {\n        vertical-align: middle;\n    }\n\n    .dataframe tbody tr th {\n        vertical-align: top;\n    }\n\n    .dataframe thead th {\n        text-align: right;\n    }\n</style>\n<table border=\"1\" class=\"dataframe\">\n  <thead>\n    <tr style=\"text-align: right;\">\n      <th></th>\n      <th>beverage_category</th>\n      <th>beverage</th>\n      <th>beverage_prep</th>\n      <th>calories</th>\n      <th>total fat</th>\n      <th>trans fat</th>\n      <th>saturated fat</th>\n      <th>sodium</th>\n      <th>total carbohydrates</th>\n      <th>cholesterol</th>\n      <th>dietary fibre</th>\n      <th>sugars</th>\n      <th>protein</th>\n      <th>vitamin a</th>\n      <th>vitamin c</th>\n      <th>calcium</th>\n      <th>iron</th>\n      <th>caffeine</th>\n    </tr>\n  </thead>\n  <tbody>\n    <tr>\n      <th>81</th>\n      <td>signature espresso drinks</td>\n      <td>white chocolate mocha (without whipped cream)</td>\n      <td>2% Milk</td>\n      <td>400</td>\n      <td>11.0</td>\n      <td>7.0</td>\n      <td>0.2</td>\n      <td>25</td>\n      <td>250</td>\n      <td>61</td>\n      <td>0</td>\n      <td>58</td>\n      <td>15.0</td>\n      <td>15</td>\n      <td>2</td>\n      <td>45</td>\n      <td>0.0</td>\n      <td>150.0</td>\n    </tr>\n    <tr>\n      <th>83</th>\n      <td>signature espresso drinks</td>\n      <td>white chocolate mocha (without whipped cream)</td>\n      <td>Venti Nonfat Milk</td>\n      <td>450</td>\n      <td>7.0</td>\n      <td>6.0</td>\n      <td>0.0</td>\n      <td>10</td>\n      <td>310</td>\n      <td>78</td>\n      <td>0</td>\n      <td>74</td>\n      <td>19.0</td>\n      <td>25</td>\n      <td>2</td>\n      <td>60</td>\n      <td>2.0</td>\n      <td>150.0</td>\n    </tr>\n    <tr>\n      <th>84</th>\n      <td>signature espresso drinks</td>\n      <td>white chocolate mocha (without whipped cream)</td>\n      <td>2% Milk</td>\n      <td>510</td>\n      <td>15.0</td>\n      <td>9.0</td>\n      <td>0.2</td>\n      <td>35</td>\n      <td>330</td>\n      <td>77</td>\n      <td>0</td>\n      <td>74</td>\n      <td>19.0</td>\n      <td>20</td>\n      <td>4</td>\n      <td>60</td>\n      <td>2.0</td>\n      <td>150.0</td>\n    </tr>\n    <tr>\n      <th>85</th>\n      <td>signature espresso drinks</td>\n      <td>white chocolate mocha (without whipped cream)</td>\n      <td>Soymilk</td>\n      <td>460</td>\n      <td>13.0</td>\n      <td>6.0</td>\n      <td>0.0</td>\n      <td>5</td>\n      <td>290</td>\n      <td>70</td>\n      <td>1</td>\n      <td>64</td>\n      <td>16.0</td>\n      <td>15</td>\n      <td>2</td>\n      <td>60</td>\n      <td>20.0</td>\n      <td>150.0</td>\n    </tr>\n    <tr>\n      <th>128</th>\n      <td>tazo tea drinks</td>\n      <td>tazo green tea latte</td>\n      <td>2% Milk</td>\n      <td>450</td>\n      <td>10.0</td>\n      <td>5.0</td>\n      <td>0.3</td>\n      <td>40</td>\n      <td>230</td>\n      <td>72</td>\n      <td>2</td>\n      <td>71</td>\n      <td>17.0</td>\n      <td>25</td>\n      <td>20</td>\n      <td>50</td>\n      <td>6.0</td>\n      <td>110.0</td>\n    </tr>\n    <tr>\n      <th>214</th>\n      <td>frappuccino blended coffee</td>\n      <td>java chip (without whipped cream)</td>\n      <td>Venti Nonfat Milk</td>\n      <td>420</td>\n      <td>5.0</td>\n      <td>4.0</td>\n      <td>0.0</td>\n      <td>5</td>\n      <td>340</td>\n      <td>90</td>\n      <td>2</td>\n      <td>84</td>\n      <td>7.0</td>\n      <td>10</td>\n      <td>0</td>\n      <td>20</td>\n      <td>35.0</td>\n      <td>145.0</td>\n    </tr>\n    <tr>\n      <th>215</th>\n      <td>frappuccino blended coffee</td>\n      <td>java chip (without whipped cream)</td>\n      <td>Whole Milk</td>\n      <td>460</td>\n      <td>10.0</td>\n      <td>7.0</td>\n      <td>0.2</td>\n      <td>15</td>\n      <td>340</td>\n      <td>90</td>\n      <td>2</td>\n      <td>84</td>\n      <td>7.0</td>\n      <td>6</td>\n      <td>0</td>\n      <td>15</td>\n      <td>35.0</td>\n      <td>145.0</td>\n    </tr>\n    <tr>\n      <th>216</th>\n      <td>frappuccino blended coffee</td>\n      <td>java chip (without whipped cream)</td>\n      <td>Soymilk</td>\n      <td>430</td>\n      <td>8.0</td>\n      <td>4.5</td>\n      <td>0.0</td>\n      <td>0</td>\n      <td>330</td>\n      <td>88</td>\n      <td>3</td>\n      <td>80</td>\n      <td>6.0</td>\n      <td>6</td>\n      <td>0</td>\n      <td>20</td>\n      <td>40.0</td>\n      <td>145.0</td>\n    </tr>\n  </tbody>\n</table>\n</div>"
     },
     "execution_count": 43,
     "metadata": {},
     "output_type": "execute_result"
    }
   ],
   "source": [
    "# select all rows with more than and including 400 calories\n",
    "\n",
    "starbucks[starbucks[\"calories\"] >= 400]"
   ]
  },
  {
   "cell_type": "code",
   "execution_count": 44,
   "id": "ee8f8241",
   "metadata": {
    "pycharm": {
     "name": "#%%\n"
    }
   },
   "outputs": [
    {
     "data": {
      "text/plain": "             beverage_category  \\\n11     classic espresso drinks   \n14     classic espresso drinks   \n35     classic espresso drinks   \n38     classic espresso drinks   \n69   signature espresso drinks   \n72   signature espresso drinks   \n75   signature espresso drinks   \n77   signature espresso drinks   \n78   signature espresso drinks   \n81   signature espresso drinks   \n84   signature espresso drinks   \n118            tazo tea drinks   \n119            tazo tea drinks   \n121            tazo tea drinks   \n122            tazo tea drinks   \n124            tazo tea drinks   \n125            tazo tea drinks   \n127            tazo tea drinks   \n128            tazo tea drinks   \n169      shaken iced beverages   \n170      shaken iced beverages   \n171      shaken iced beverages   \n172                  smoothies   \n175                  smoothies   \n176                  smoothies   \n177                  smoothies   \n178                  smoothies   \n179                  smoothies   \n180                  smoothies   \n229   frappuccino blended crme   \n230   frappuccino blended crme   \n232   frappuccino blended crme   \n233   frappuccino blended crme   \n235   frappuccino blended crme   \n236   frappuccino blended crme   \n\n                                              beverage       beverage_prep  \\\n11                                          caff latte             2% Milk   \n14                                          caff latte             2% Milk   \n35            vanilla latte (or other flavoured latte)             2% Milk   \n38            vanilla latte (or other flavoured latte)             2% Milk   \n69                                   caramel macchiato             2% Milk   \n72                                   caramel macchiato             2% Milk   \n75       white chocolate mocha (without whipped cream)             2% Milk   \n77       white chocolate mocha (without whipped cream)    Tall Nonfat Milk   \n78       white chocolate mocha (without whipped cream)             2% Milk   \n81       white chocolate mocha (without whipped cream)             2% Milk   \n84       white chocolate mocha (without whipped cream)             2% Milk   \n118                               tazo green tea latte   Short Nonfat Milk   \n119                               tazo green tea latte             2% Milk   \n121                               tazo green tea latte    Tall Nonfat Milk   \n122                               tazo green tea latte             2% Milk   \n124                               tazo green tea latte  Grande Nonfat Milk   \n125                               tazo green tea latte             2% Milk   \n127                               tazo green tea latte   Venti Nonfat Milk   \n128                               tazo green tea latte             2% Milk   \n169  shaken iced tazo tea lemonade (with classic sy...                Tall   \n170  shaken iced tazo tea lemonade (with classic sy...              Grande   \n171  shaken iced tazo tea lemonade (with classic sy...               Venti   \n172                          banana chocolate smoothie  Grande Nonfat Milk   \n175                       orange mango banana smoothie  Grande Nonfat Milk   \n176                       orange mango banana smoothie             2% Milk   \n177                       orange mango banana smoothie             Soymilk   \n178                         strawberry banana smoothie  Grande Nonfat Milk   \n179                         strawberry banana smoothie             2% Milk   \n180                         strawberry banana smoothie             Soymilk   \n229         strawberries  crme (without whipped cream)    Tall Nonfat Milk   \n230         strawberries  crme (without whipped cream)          Whole Milk   \n232         strawberries  crme (without whipped cream)  Grande Nonfat Milk   \n233         strawberries  crme (without whipped cream)          Whole Milk   \n235         strawberries  crme (without whipped cream)   Venti Nonfat Milk   \n236         strawberries  crme (without whipped cream)          Whole Milk   \n\n     calories  total fat  trans fat  saturated fat  sodium  \\\n11        190        7.0        3.5            0.2      30   \n14        240        9.0        4.5            0.3      35   \n35        250        6.0        3.5            0.2      25   \n38        320        9.0        4.5            0.3      35   \n69        240        7.0        3.5            0.2      25   \n72        300        8.0        4.5            0.2      35   \n75        200        6.0        3.5            0.1      15   \n77        270        4.5        3.5            0.0       5   \n78        310        9.0        6.0            0.1      20   \n81        400       11.0        7.0            0.2      25   \n84        510       15.0        9.0            0.2      35   \n118       130        0.2        0.1            0.0       5   \n119       170        4.0        2.0            0.1      15   \n121       210        0.4        0.2            0.0       5   \n122       260        6.0        3.0            0.2      25   \n124       290        0.5        0.2            0.0      10   \n125       350        8.0        4.0            0.2      30   \n127       370        0.5        0.3            0.0      10   \n128       450       10.0        5.0            0.3      40   \n169       100        0.0        0.0            0.0       0   \n170       130        0.0        0.0            0.0       0   \n171       190        0.0        0.0            0.0       0   \n172       280        2.5        1.5            0.0       5   \n175       260        1.0        0.3            0.0       5   \n176       270        1.5        0.5            0.0       5   \n177       270        1.5        0.4            0.0       5   \n178       290        1.0        0.3            0.0       5   \n179       290        2.0        1.0            0.0       5   \n180       290        2.0        0.4            0.0       5   \n229       170        0.1        0.1            0.0       0   \n230       190        3.0        1.5            0.1      10   \n232       230        0.2        0.1            0.0       0   \n233       260        4.0        2.0            0.1      10   \n235       310        0.2        0.1            0.0       5   \n236       350        6.0        3.0            0.2      15   \n\n     total carbohydrates  cholesterol  dietary fibre  sugars  protein  \\\n11                   170           19              0      17     12.0   \n14                   220           24              0      22     16.0   \n35                   150           37              0      35     12.0   \n38                   200           46              0      44     15.0   \n69                   150           34              0      32     10.0   \n72                   180           43              0      40     13.0   \n75                   125           31              0      29      7.0   \n77                   190           47              0      45     12.0   \n78                   200           46              0      44     11.0   \n81                   250           61              0      58     15.0   \n84                   330           77              0      74     19.0   \n118                   85           26              0      25      7.0   \n119                   95           26              0      25      7.0   \n121                  125           42              1      41     11.0   \n122                  140           41              1      40     10.0   \n124                  160           57              1      56     14.0   \n125                  180           57              1      55     14.0   \n127                  200           73              2      71     18.0   \n128                  230           72              2      71     17.0   \n169                    0           25              0      24      0.1   \n170                    0           33              0      33      0.1   \n171                    0           49              0      49      0.1   \n172                  150           53              7      34     20.0   \n175                  120           54              6      37     16.0   \n176                  125           53              6      37     16.0   \n177                  120           53              6      36     15.0   \n178                  125           58              7      41     16.0   \n179                  125           58              7      41     16.0   \n180                  120           58              8      40     16.0   \n229                  140           39              0      38      3.0   \n230                  140           38              0      37      3.0   \n232                  190           53              0      52      4.0   \n233                  190           53              0      52      4.0   \n235                  260           70              0      69      6.0   \n236                  260           70              0      68      6.0   \n\n     vitamin a  vitamin c  calcium  iron    caffeine  \n11          20          2       40   0.0  150.000000  \n14          25          2       50   0.0  150.000000  \n35          20          2       35   0.0  150.000000  \n38          25          2       45   0.0  150.000000  \n69          15          2       30   0.0  150.000000  \n72          20          2       40   0.0  150.000000  \n75           8          2       25   0.0   75.000000  \n77          15          2       35   0.0   75.000000  \n78          15          2       35   0.0   75.000000  \n81          15          2       45   0.0  150.000000  \n84          20          4       60   2.0  150.000000  \n118         10          4       20   2.0   25.000000  \n119         10          6       20   2.0   25.000000  \n121         20         10       35   4.0   55.000000  \n122         15         10       35   4.0   55.000000  \n124         25         15       45   4.0   80.000000  \n125         20         15       45   4.0   80.000000  \n127         30         20       60   6.0  110.000000  \n128         25         20       50   6.0  110.000000  \n169          0         10        0   0.0   89.520548  \n170          0         15        0   0.0   89.520548  \n171          0         20        0   0.0   89.520548  \n172         10         15       20   0.0   89.520548  \n175         50         80       10  30.0   15.000000  \n176         50         80       10   6.0    0.000000  \n177         50         80       10   6.0    0.000000  \n178          4        100       10   8.0    0.000000  \n179          4        100       10   8.0    0.000000  \n180          2        100       10   8.0    0.000000  \n229          6          6       10   2.0    0.000000  \n230          4          6       10   2.0    0.000000  \n232          8          6       15   4.0    0.000000  \n233          6          6       15   4.0    0.000000  \n235         10          8       20   4.0    0.000000  \n236          8          8       20   4.0    0.000000  ",
      "text/html": "<div>\n<style scoped>\n    .dataframe tbody tr th:only-of-type {\n        vertical-align: middle;\n    }\n\n    .dataframe tbody tr th {\n        vertical-align: top;\n    }\n\n    .dataframe thead th {\n        text-align: right;\n    }\n</style>\n<table border=\"1\" class=\"dataframe\">\n  <thead>\n    <tr style=\"text-align: right;\">\n      <th></th>\n      <th>beverage_category</th>\n      <th>beverage</th>\n      <th>beverage_prep</th>\n      <th>calories</th>\n      <th>total fat</th>\n      <th>trans fat</th>\n      <th>saturated fat</th>\n      <th>sodium</th>\n      <th>total carbohydrates</th>\n      <th>cholesterol</th>\n      <th>dietary fibre</th>\n      <th>sugars</th>\n      <th>protein</th>\n      <th>vitamin a</th>\n      <th>vitamin c</th>\n      <th>calcium</th>\n      <th>iron</th>\n      <th>caffeine</th>\n    </tr>\n  </thead>\n  <tbody>\n    <tr>\n      <th>11</th>\n      <td>classic espresso drinks</td>\n      <td>caff latte</td>\n      <td>2% Milk</td>\n      <td>190</td>\n      <td>7.0</td>\n      <td>3.5</td>\n      <td>0.2</td>\n      <td>30</td>\n      <td>170</td>\n      <td>19</td>\n      <td>0</td>\n      <td>17</td>\n      <td>12.0</td>\n      <td>20</td>\n      <td>2</td>\n      <td>40</td>\n      <td>0.0</td>\n      <td>150.000000</td>\n    </tr>\n    <tr>\n      <th>14</th>\n      <td>classic espresso drinks</td>\n      <td>caff latte</td>\n      <td>2% Milk</td>\n      <td>240</td>\n      <td>9.0</td>\n      <td>4.5</td>\n      <td>0.3</td>\n      <td>35</td>\n      <td>220</td>\n      <td>24</td>\n      <td>0</td>\n      <td>22</td>\n      <td>16.0</td>\n      <td>25</td>\n      <td>2</td>\n      <td>50</td>\n      <td>0.0</td>\n      <td>150.000000</td>\n    </tr>\n    <tr>\n      <th>35</th>\n      <td>classic espresso drinks</td>\n      <td>vanilla latte (or other flavoured latte)</td>\n      <td>2% Milk</td>\n      <td>250</td>\n      <td>6.0</td>\n      <td>3.5</td>\n      <td>0.2</td>\n      <td>25</td>\n      <td>150</td>\n      <td>37</td>\n      <td>0</td>\n      <td>35</td>\n      <td>12.0</td>\n      <td>20</td>\n      <td>2</td>\n      <td>35</td>\n      <td>0.0</td>\n      <td>150.000000</td>\n    </tr>\n    <tr>\n      <th>38</th>\n      <td>classic espresso drinks</td>\n      <td>vanilla latte (or other flavoured latte)</td>\n      <td>2% Milk</td>\n      <td>320</td>\n      <td>9.0</td>\n      <td>4.5</td>\n      <td>0.3</td>\n      <td>35</td>\n      <td>200</td>\n      <td>46</td>\n      <td>0</td>\n      <td>44</td>\n      <td>15.0</td>\n      <td>25</td>\n      <td>2</td>\n      <td>45</td>\n      <td>0.0</td>\n      <td>150.000000</td>\n    </tr>\n    <tr>\n      <th>69</th>\n      <td>signature espresso drinks</td>\n      <td>caramel macchiato</td>\n      <td>2% Milk</td>\n      <td>240</td>\n      <td>7.0</td>\n      <td>3.5</td>\n      <td>0.2</td>\n      <td>25</td>\n      <td>150</td>\n      <td>34</td>\n      <td>0</td>\n      <td>32</td>\n      <td>10.0</td>\n      <td>15</td>\n      <td>2</td>\n      <td>30</td>\n      <td>0.0</td>\n      <td>150.000000</td>\n    </tr>\n    <tr>\n      <th>72</th>\n      <td>signature espresso drinks</td>\n      <td>caramel macchiato</td>\n      <td>2% Milk</td>\n      <td>300</td>\n      <td>8.0</td>\n      <td>4.5</td>\n      <td>0.2</td>\n      <td>35</td>\n      <td>180</td>\n      <td>43</td>\n      <td>0</td>\n      <td>40</td>\n      <td>13.0</td>\n      <td>20</td>\n      <td>2</td>\n      <td>40</td>\n      <td>0.0</td>\n      <td>150.000000</td>\n    </tr>\n    <tr>\n      <th>75</th>\n      <td>signature espresso drinks</td>\n      <td>white chocolate mocha (without whipped cream)</td>\n      <td>2% Milk</td>\n      <td>200</td>\n      <td>6.0</td>\n      <td>3.5</td>\n      <td>0.1</td>\n      <td>15</td>\n      <td>125</td>\n      <td>31</td>\n      <td>0</td>\n      <td>29</td>\n      <td>7.0</td>\n      <td>8</td>\n      <td>2</td>\n      <td>25</td>\n      <td>0.0</td>\n      <td>75.000000</td>\n    </tr>\n    <tr>\n      <th>77</th>\n      <td>signature espresso drinks</td>\n      <td>white chocolate mocha (without whipped cream)</td>\n      <td>Tall Nonfat Milk</td>\n      <td>270</td>\n      <td>4.5</td>\n      <td>3.5</td>\n      <td>0.0</td>\n      <td>5</td>\n      <td>190</td>\n      <td>47</td>\n      <td>0</td>\n      <td>45</td>\n      <td>12.0</td>\n      <td>15</td>\n      <td>2</td>\n      <td>35</td>\n      <td>0.0</td>\n      <td>75.000000</td>\n    </tr>\n    <tr>\n      <th>78</th>\n      <td>signature espresso drinks</td>\n      <td>white chocolate mocha (without whipped cream)</td>\n      <td>2% Milk</td>\n      <td>310</td>\n      <td>9.0</td>\n      <td>6.0</td>\n      <td>0.1</td>\n      <td>20</td>\n      <td>200</td>\n      <td>46</td>\n      <td>0</td>\n      <td>44</td>\n      <td>11.0</td>\n      <td>15</td>\n      <td>2</td>\n      <td>35</td>\n      <td>0.0</td>\n      <td>75.000000</td>\n    </tr>\n    <tr>\n      <th>81</th>\n      <td>signature espresso drinks</td>\n      <td>white chocolate mocha (without whipped cream)</td>\n      <td>2% Milk</td>\n      <td>400</td>\n      <td>11.0</td>\n      <td>7.0</td>\n      <td>0.2</td>\n      <td>25</td>\n      <td>250</td>\n      <td>61</td>\n      <td>0</td>\n      <td>58</td>\n      <td>15.0</td>\n      <td>15</td>\n      <td>2</td>\n      <td>45</td>\n      <td>0.0</td>\n      <td>150.000000</td>\n    </tr>\n    <tr>\n      <th>84</th>\n      <td>signature espresso drinks</td>\n      <td>white chocolate mocha (without whipped cream)</td>\n      <td>2% Milk</td>\n      <td>510</td>\n      <td>15.0</td>\n      <td>9.0</td>\n      <td>0.2</td>\n      <td>35</td>\n      <td>330</td>\n      <td>77</td>\n      <td>0</td>\n      <td>74</td>\n      <td>19.0</td>\n      <td>20</td>\n      <td>4</td>\n      <td>60</td>\n      <td>2.0</td>\n      <td>150.000000</td>\n    </tr>\n    <tr>\n      <th>118</th>\n      <td>tazo tea drinks</td>\n      <td>tazo green tea latte</td>\n      <td>Short Nonfat Milk</td>\n      <td>130</td>\n      <td>0.2</td>\n      <td>0.1</td>\n      <td>0.0</td>\n      <td>5</td>\n      <td>85</td>\n      <td>26</td>\n      <td>0</td>\n      <td>25</td>\n      <td>7.0</td>\n      <td>10</td>\n      <td>4</td>\n      <td>20</td>\n      <td>2.0</td>\n      <td>25.000000</td>\n    </tr>\n    <tr>\n      <th>119</th>\n      <td>tazo tea drinks</td>\n      <td>tazo green tea latte</td>\n      <td>2% Milk</td>\n      <td>170</td>\n      <td>4.0</td>\n      <td>2.0</td>\n      <td>0.1</td>\n      <td>15</td>\n      <td>95</td>\n      <td>26</td>\n      <td>0</td>\n      <td>25</td>\n      <td>7.0</td>\n      <td>10</td>\n      <td>6</td>\n      <td>20</td>\n      <td>2.0</td>\n      <td>25.000000</td>\n    </tr>\n    <tr>\n      <th>121</th>\n      <td>tazo tea drinks</td>\n      <td>tazo green tea latte</td>\n      <td>Tall Nonfat Milk</td>\n      <td>210</td>\n      <td>0.4</td>\n      <td>0.2</td>\n      <td>0.0</td>\n      <td>5</td>\n      <td>125</td>\n      <td>42</td>\n      <td>1</td>\n      <td>41</td>\n      <td>11.0</td>\n      <td>20</td>\n      <td>10</td>\n      <td>35</td>\n      <td>4.0</td>\n      <td>55.000000</td>\n    </tr>\n    <tr>\n      <th>122</th>\n      <td>tazo tea drinks</td>\n      <td>tazo green tea latte</td>\n      <td>2% Milk</td>\n      <td>260</td>\n      <td>6.0</td>\n      <td>3.0</td>\n      <td>0.2</td>\n      <td>25</td>\n      <td>140</td>\n      <td>41</td>\n      <td>1</td>\n      <td>40</td>\n      <td>10.0</td>\n      <td>15</td>\n      <td>10</td>\n      <td>35</td>\n      <td>4.0</td>\n      <td>55.000000</td>\n    </tr>\n    <tr>\n      <th>124</th>\n      <td>tazo tea drinks</td>\n      <td>tazo green tea latte</td>\n      <td>Grande Nonfat Milk</td>\n      <td>290</td>\n      <td>0.5</td>\n      <td>0.2</td>\n      <td>0.0</td>\n      <td>10</td>\n      <td>160</td>\n      <td>57</td>\n      <td>1</td>\n      <td>56</td>\n      <td>14.0</td>\n      <td>25</td>\n      <td>15</td>\n      <td>45</td>\n      <td>4.0</td>\n      <td>80.000000</td>\n    </tr>\n    <tr>\n      <th>125</th>\n      <td>tazo tea drinks</td>\n      <td>tazo green tea latte</td>\n      <td>2% Milk</td>\n      <td>350</td>\n      <td>8.0</td>\n      <td>4.0</td>\n      <td>0.2</td>\n      <td>30</td>\n      <td>180</td>\n      <td>57</td>\n      <td>1</td>\n      <td>55</td>\n      <td>14.0</td>\n      <td>20</td>\n      <td>15</td>\n      <td>45</td>\n      <td>4.0</td>\n      <td>80.000000</td>\n    </tr>\n    <tr>\n      <th>127</th>\n      <td>tazo tea drinks</td>\n      <td>tazo green tea latte</td>\n      <td>Venti Nonfat Milk</td>\n      <td>370</td>\n      <td>0.5</td>\n      <td>0.3</td>\n      <td>0.0</td>\n      <td>10</td>\n      <td>200</td>\n      <td>73</td>\n      <td>2</td>\n      <td>71</td>\n      <td>18.0</td>\n      <td>30</td>\n      <td>20</td>\n      <td>60</td>\n      <td>6.0</td>\n      <td>110.000000</td>\n    </tr>\n    <tr>\n      <th>128</th>\n      <td>tazo tea drinks</td>\n      <td>tazo green tea latte</td>\n      <td>2% Milk</td>\n      <td>450</td>\n      <td>10.0</td>\n      <td>5.0</td>\n      <td>0.3</td>\n      <td>40</td>\n      <td>230</td>\n      <td>72</td>\n      <td>2</td>\n      <td>71</td>\n      <td>17.0</td>\n      <td>25</td>\n      <td>20</td>\n      <td>50</td>\n      <td>6.0</td>\n      <td>110.000000</td>\n    </tr>\n    <tr>\n      <th>169</th>\n      <td>shaken iced beverages</td>\n      <td>shaken iced tazo tea lemonade (with classic sy...</td>\n      <td>Tall</td>\n      <td>100</td>\n      <td>0.0</td>\n      <td>0.0</td>\n      <td>0.0</td>\n      <td>0</td>\n      <td>0</td>\n      <td>25</td>\n      <td>0</td>\n      <td>24</td>\n      <td>0.1</td>\n      <td>0</td>\n      <td>10</td>\n      <td>0</td>\n      <td>0.0</td>\n      <td>89.520548</td>\n    </tr>\n    <tr>\n      <th>170</th>\n      <td>shaken iced beverages</td>\n      <td>shaken iced tazo tea lemonade (with classic sy...</td>\n      <td>Grande</td>\n      <td>130</td>\n      <td>0.0</td>\n      <td>0.0</td>\n      <td>0.0</td>\n      <td>0</td>\n      <td>0</td>\n      <td>33</td>\n      <td>0</td>\n      <td>33</td>\n      <td>0.1</td>\n      <td>0</td>\n      <td>15</td>\n      <td>0</td>\n      <td>0.0</td>\n      <td>89.520548</td>\n    </tr>\n    <tr>\n      <th>171</th>\n      <td>shaken iced beverages</td>\n      <td>shaken iced tazo tea lemonade (with classic sy...</td>\n      <td>Venti</td>\n      <td>190</td>\n      <td>0.0</td>\n      <td>0.0</td>\n      <td>0.0</td>\n      <td>0</td>\n      <td>0</td>\n      <td>49</td>\n      <td>0</td>\n      <td>49</td>\n      <td>0.1</td>\n      <td>0</td>\n      <td>20</td>\n      <td>0</td>\n      <td>0.0</td>\n      <td>89.520548</td>\n    </tr>\n    <tr>\n      <th>172</th>\n      <td>smoothies</td>\n      <td>banana chocolate smoothie</td>\n      <td>Grande Nonfat Milk</td>\n      <td>280</td>\n      <td>2.5</td>\n      <td>1.5</td>\n      <td>0.0</td>\n      <td>5</td>\n      <td>150</td>\n      <td>53</td>\n      <td>7</td>\n      <td>34</td>\n      <td>20.0</td>\n      <td>10</td>\n      <td>15</td>\n      <td>20</td>\n      <td>0.0</td>\n      <td>89.520548</td>\n    </tr>\n    <tr>\n      <th>175</th>\n      <td>smoothies</td>\n      <td>orange mango banana smoothie</td>\n      <td>Grande Nonfat Milk</td>\n      <td>260</td>\n      <td>1.0</td>\n      <td>0.3</td>\n      <td>0.0</td>\n      <td>5</td>\n      <td>120</td>\n      <td>54</td>\n      <td>6</td>\n      <td>37</td>\n      <td>16.0</td>\n      <td>50</td>\n      <td>80</td>\n      <td>10</td>\n      <td>30.0</td>\n      <td>15.000000</td>\n    </tr>\n    <tr>\n      <th>176</th>\n      <td>smoothies</td>\n      <td>orange mango banana smoothie</td>\n      <td>2% Milk</td>\n      <td>270</td>\n      <td>1.5</td>\n      <td>0.5</td>\n      <td>0.0</td>\n      <td>5</td>\n      <td>125</td>\n      <td>53</td>\n      <td>6</td>\n      <td>37</td>\n      <td>16.0</td>\n      <td>50</td>\n      <td>80</td>\n      <td>10</td>\n      <td>6.0</td>\n      <td>0.000000</td>\n    </tr>\n    <tr>\n      <th>177</th>\n      <td>smoothies</td>\n      <td>orange mango banana smoothie</td>\n      <td>Soymilk</td>\n      <td>270</td>\n      <td>1.5</td>\n      <td>0.4</td>\n      <td>0.0</td>\n      <td>5</td>\n      <td>120</td>\n      <td>53</td>\n      <td>6</td>\n      <td>36</td>\n      <td>15.0</td>\n      <td>50</td>\n      <td>80</td>\n      <td>10</td>\n      <td>6.0</td>\n      <td>0.000000</td>\n    </tr>\n    <tr>\n      <th>178</th>\n      <td>smoothies</td>\n      <td>strawberry banana smoothie</td>\n      <td>Grande Nonfat Milk</td>\n      <td>290</td>\n      <td>1.0</td>\n      <td>0.3</td>\n      <td>0.0</td>\n      <td>5</td>\n      <td>125</td>\n      <td>58</td>\n      <td>7</td>\n      <td>41</td>\n      <td>16.0</td>\n      <td>4</td>\n      <td>100</td>\n      <td>10</td>\n      <td>8.0</td>\n      <td>0.000000</td>\n    </tr>\n    <tr>\n      <th>179</th>\n      <td>smoothies</td>\n      <td>strawberry banana smoothie</td>\n      <td>2% Milk</td>\n      <td>290</td>\n      <td>2.0</td>\n      <td>1.0</td>\n      <td>0.0</td>\n      <td>5</td>\n      <td>125</td>\n      <td>58</td>\n      <td>7</td>\n      <td>41</td>\n      <td>16.0</td>\n      <td>4</td>\n      <td>100</td>\n      <td>10</td>\n      <td>8.0</td>\n      <td>0.000000</td>\n    </tr>\n    <tr>\n      <th>180</th>\n      <td>smoothies</td>\n      <td>strawberry banana smoothie</td>\n      <td>Soymilk</td>\n      <td>290</td>\n      <td>2.0</td>\n      <td>0.4</td>\n      <td>0.0</td>\n      <td>5</td>\n      <td>120</td>\n      <td>58</td>\n      <td>8</td>\n      <td>40</td>\n      <td>16.0</td>\n      <td>2</td>\n      <td>100</td>\n      <td>10</td>\n      <td>8.0</td>\n      <td>0.000000</td>\n    </tr>\n    <tr>\n      <th>229</th>\n      <td>frappuccino blended crme</td>\n      <td>strawberries  crme (without whipped cream)</td>\n      <td>Tall Nonfat Milk</td>\n      <td>170</td>\n      <td>0.1</td>\n      <td>0.1</td>\n      <td>0.0</td>\n      <td>0</td>\n      <td>140</td>\n      <td>39</td>\n      <td>0</td>\n      <td>38</td>\n      <td>3.0</td>\n      <td>6</td>\n      <td>6</td>\n      <td>10</td>\n      <td>2.0</td>\n      <td>0.000000</td>\n    </tr>\n    <tr>\n      <th>230</th>\n      <td>frappuccino blended crme</td>\n      <td>strawberries  crme (without whipped cream)</td>\n      <td>Whole Milk</td>\n      <td>190</td>\n      <td>3.0</td>\n      <td>1.5</td>\n      <td>0.1</td>\n      <td>10</td>\n      <td>140</td>\n      <td>38</td>\n      <td>0</td>\n      <td>37</td>\n      <td>3.0</td>\n      <td>4</td>\n      <td>6</td>\n      <td>10</td>\n      <td>2.0</td>\n      <td>0.000000</td>\n    </tr>\n    <tr>\n      <th>232</th>\n      <td>frappuccino blended crme</td>\n      <td>strawberries  crme (without whipped cream)</td>\n      <td>Grande Nonfat Milk</td>\n      <td>230</td>\n      <td>0.2</td>\n      <td>0.1</td>\n      <td>0.0</td>\n      <td>0</td>\n      <td>190</td>\n      <td>53</td>\n      <td>0</td>\n      <td>52</td>\n      <td>4.0</td>\n      <td>8</td>\n      <td>6</td>\n      <td>15</td>\n      <td>4.0</td>\n      <td>0.000000</td>\n    </tr>\n    <tr>\n      <th>233</th>\n      <td>frappuccino blended crme</td>\n      <td>strawberries  crme (without whipped cream)</td>\n      <td>Whole Milk</td>\n      <td>260</td>\n      <td>4.0</td>\n      <td>2.0</td>\n      <td>0.1</td>\n      <td>10</td>\n      <td>190</td>\n      <td>53</td>\n      <td>0</td>\n      <td>52</td>\n      <td>4.0</td>\n      <td>6</td>\n      <td>6</td>\n      <td>15</td>\n      <td>4.0</td>\n      <td>0.000000</td>\n    </tr>\n    <tr>\n      <th>235</th>\n      <td>frappuccino blended crme</td>\n      <td>strawberries  crme (without whipped cream)</td>\n      <td>Venti Nonfat Milk</td>\n      <td>310</td>\n      <td>0.2</td>\n      <td>0.1</td>\n      <td>0.0</td>\n      <td>5</td>\n      <td>260</td>\n      <td>70</td>\n      <td>0</td>\n      <td>69</td>\n      <td>6.0</td>\n      <td>10</td>\n      <td>8</td>\n      <td>20</td>\n      <td>4.0</td>\n      <td>0.000000</td>\n    </tr>\n    <tr>\n      <th>236</th>\n      <td>frappuccino blended crme</td>\n      <td>strawberries  crme (without whipped cream)</td>\n      <td>Whole Milk</td>\n      <td>350</td>\n      <td>6.0</td>\n      <td>3.0</td>\n      <td>0.2</td>\n      <td>15</td>\n      <td>260</td>\n      <td>70</td>\n      <td>0</td>\n      <td>68</td>\n      <td>6.0</td>\n      <td>8</td>\n      <td>8</td>\n      <td>20</td>\n      <td>4.0</td>\n      <td>0.000000</td>\n    </tr>\n  </tbody>\n</table>\n</div>"
     },
     "execution_count": 44,
     "metadata": {},
     "output_type": "execute_result"
    }
   ],
   "source": [
    "# select all rows whose vitamin c content is higher than the iron content\n",
    "\n",
    "starbucks[starbucks[\"vitamin c\"] > starbucks[\"iron\"]]"
   ]
  },
  {
   "cell_type": "code",
   "execution_count": 46,
   "id": "d4de48bb",
   "metadata": {
    "pycharm": {
     "name": "#%%\n"
    }
   },
   "outputs": [
    {
     "data": {
      "text/plain": "         beverage_category       beverage      beverage_prep  calories  \\\n0                   coffee  brewed coffee              Short         3   \n1                   coffee  brewed coffee               Tall         4   \n2                   coffee  brewed coffee             Grande         5   \n3                   coffee  brewed coffee              Venti         5   \n4  classic espresso drinks     caff latte  Short Nonfat Milk        70   \n\n   total fat  trans fat  saturated fat  sodium  total carbohydrates  \\\n0        0.1        0.0            0.0       0                    5   \n1        0.1        0.0            0.0       0                   10   \n2        0.1        0.0            0.0       0                   10   \n3        0.1        0.0            0.0       0                   10   \n4        0.1        0.1            0.0       5                   75   \n\n   cholesterol  dietary fibre  sugars  protein  vitamin a  vitamin c  calcium  \\\n0            0              0       0      0.3          0          0        0   \n1            0              0       0      0.5          0          0        0   \n2            0              0       0      1.0          0          0        0   \n3            0              0       0      1.0          0          0        2   \n4           10              0       9      6.0         10          0       20   \n\n   iron  caffeine  caffeine_per_calories  \n0   0.0     175.0              58.333333  \n1   0.0     260.0              65.000000  \n2   0.0     330.0              66.000000  \n3   0.0     410.0              82.000000  \n4   0.0      75.0               1.071429  ",
      "text/html": "<div>\n<style scoped>\n    .dataframe tbody tr th:only-of-type {\n        vertical-align: middle;\n    }\n\n    .dataframe tbody tr th {\n        vertical-align: top;\n    }\n\n    .dataframe thead th {\n        text-align: right;\n    }\n</style>\n<table border=\"1\" class=\"dataframe\">\n  <thead>\n    <tr style=\"text-align: right;\">\n      <th></th>\n      <th>beverage_category</th>\n      <th>beverage</th>\n      <th>beverage_prep</th>\n      <th>calories</th>\n      <th>total fat</th>\n      <th>trans fat</th>\n      <th>saturated fat</th>\n      <th>sodium</th>\n      <th>total carbohydrates</th>\n      <th>cholesterol</th>\n      <th>dietary fibre</th>\n      <th>sugars</th>\n      <th>protein</th>\n      <th>vitamin a</th>\n      <th>vitamin c</th>\n      <th>calcium</th>\n      <th>iron</th>\n      <th>caffeine</th>\n      <th>caffeine_per_calories</th>\n    </tr>\n  </thead>\n  <tbody>\n    <tr>\n      <th>0</th>\n      <td>coffee</td>\n      <td>brewed coffee</td>\n      <td>Short</td>\n      <td>3</td>\n      <td>0.1</td>\n      <td>0.0</td>\n      <td>0.0</td>\n      <td>0</td>\n      <td>5</td>\n      <td>0</td>\n      <td>0</td>\n      <td>0</td>\n      <td>0.3</td>\n      <td>0</td>\n      <td>0</td>\n      <td>0</td>\n      <td>0.0</td>\n      <td>175.0</td>\n      <td>58.333333</td>\n    </tr>\n    <tr>\n      <th>1</th>\n      <td>coffee</td>\n      <td>brewed coffee</td>\n      <td>Tall</td>\n      <td>4</td>\n      <td>0.1</td>\n      <td>0.0</td>\n      <td>0.0</td>\n      <td>0</td>\n      <td>10</td>\n      <td>0</td>\n      <td>0</td>\n      <td>0</td>\n      <td>0.5</td>\n      <td>0</td>\n      <td>0</td>\n      <td>0</td>\n      <td>0.0</td>\n      <td>260.0</td>\n      <td>65.000000</td>\n    </tr>\n    <tr>\n      <th>2</th>\n      <td>coffee</td>\n      <td>brewed coffee</td>\n      <td>Grande</td>\n      <td>5</td>\n      <td>0.1</td>\n      <td>0.0</td>\n      <td>0.0</td>\n      <td>0</td>\n      <td>10</td>\n      <td>0</td>\n      <td>0</td>\n      <td>0</td>\n      <td>1.0</td>\n      <td>0</td>\n      <td>0</td>\n      <td>0</td>\n      <td>0.0</td>\n      <td>330.0</td>\n      <td>66.000000</td>\n    </tr>\n    <tr>\n      <th>3</th>\n      <td>coffee</td>\n      <td>brewed coffee</td>\n      <td>Venti</td>\n      <td>5</td>\n      <td>0.1</td>\n      <td>0.0</td>\n      <td>0.0</td>\n      <td>0</td>\n      <td>10</td>\n      <td>0</td>\n      <td>0</td>\n      <td>0</td>\n      <td>1.0</td>\n      <td>0</td>\n      <td>0</td>\n      <td>2</td>\n      <td>0.0</td>\n      <td>410.0</td>\n      <td>82.000000</td>\n    </tr>\n    <tr>\n      <th>4</th>\n      <td>classic espresso drinks</td>\n      <td>caff latte</td>\n      <td>Short Nonfat Milk</td>\n      <td>70</td>\n      <td>0.1</td>\n      <td>0.1</td>\n      <td>0.0</td>\n      <td>5</td>\n      <td>75</td>\n      <td>10</td>\n      <td>0</td>\n      <td>9</td>\n      <td>6.0</td>\n      <td>10</td>\n      <td>0</td>\n      <td>20</td>\n      <td>0.0</td>\n      <td>75.0</td>\n      <td>1.071429</td>\n    </tr>\n  </tbody>\n</table>\n</div>"
     },
     "execution_count": 46,
     "metadata": {},
     "output_type": "execute_result"
    }
   ],
   "source": [
    "# create a new column containing the caffeine per calories of each drink\n",
    "\n",
    "starbucks[\"caffeine_per_calories\"] = starbucks[\"caffeine\"] / starbucks[\"calories\"]\n",
    "\n",
    "starbucks.head()"
   ]
  },
  {
   "cell_type": "code",
   "execution_count": 47,
   "metadata": {
    "colab": {},
    "colab_type": "code",
    "id": "rIoxaSxHshvB",
    "pycharm": {
     "name": "#%%\n"
    }
   },
   "outputs": [
    {
     "data": {
      "text/plain": "193.87190082644628"
     },
     "execution_count": 47,
     "metadata": {},
     "output_type": "execute_result"
    }
   ],
   "source": [
    "# what is the average calorie across all items?\n",
    "\n",
    "starbucks[\"calories\"].mean()"
   ]
  },
  {
   "cell_type": "code",
   "execution_count": 53,
   "metadata": {
    "colab": {},
    "colab_type": "code",
    "id": "ABX7i49FshvD",
    "pycharm": {
     "name": "#%%\n"
    }
   },
   "outputs": [
    {
     "name": "stdout",
     "output_type": "stream",
     "text": [
      "9\n"
     ]
    }
   ],
   "source": [
    "# how many different categories of beverages are there?\n",
    "print(len(starbucks[\"beverage_category\"].unique()))"
   ]
  },
  {
   "cell_type": "code",
   "execution_count": 54,
   "metadata": {
    "colab": {},
    "colab_type": "code",
    "id": "P9QatZAzshvE",
    "pycharm": {
     "name": "#%%\n"
    }
   },
   "outputs": [
    {
     "name": "stdout",
     "output_type": "stream",
     "text": [
      "beverage_category\n",
      "classic espresso drinks             140.172414\n",
      "coffee                                4.250000\n",
      "frappuccino blended coffee          276.944444\n",
      "frappuccino blended crme            233.076923\n",
      "frappuccino light blended coffee    162.500000\n",
      "shaken iced beverages               114.444444\n",
      "signature espresso drinks           250.000000\n",
      "smoothies                           282.222222\n",
      "tazo tea drinks                     177.307692\n",
      "Name: calories, dtype: float64\n"
     ]
    }
   ],
   "source": [
    "# what is the average # calories for each beverage category?\n",
    "print(starbucks.groupby(\"beverage_category\")[\"calories\"].mean())"
   ]
  },
  {
   "cell_type": "code",
   "execution_count": 56,
   "metadata": {
    "pycharm": {
     "name": "#%%\n"
    }
   },
   "outputs": [
    {
     "data": {
      "text/plain": "<AxesSubplot:title={'center':'Calorie Distribution'}, ylabel='Frequency'>"
     },
     "execution_count": 56,
     "metadata": {},
     "output_type": "execute_result"
    },
    {
     "data": {
      "text/plain": "<Figure size 640x480 with 1 Axes>",
      "image/png": "[encoded data removed]"
     },
     "metadata": {},
     "output_type": "display_data"
    }
   ],
   "source": [
    "# plot the distribution of the number of calories in drinks with a histogram\n",
    "import matplotlib.pyplot as plt\n",
    "starbucks[\"calories\"].plot.hist(edgecolor=\"blue\", alpha=1, title=\"Calorie Distribution\")"
   ]
  },
  {
   "cell_type": "code",
   "execution_count": 37,
   "metadata": {
    "pycharm": {
     "name": "#%%\n"
    }
   },
   "outputs": [],
   "source": [
    "# plot calories against total fat with a scatterplot\n",
    "starbucks.plot.scatter(x=\"calories\", y=\"total fat\", title=\"Calories Vs Total Fat\")"
   ]
  }
 ],
 "metadata": {
  "kernelspec": {
   "display_name": "Python 3.9.0 64-bit",
   "language": "python",
   "name": "python3"
  },
  "language_info": {
   "codemirror_mode": {
    "name": "ipython",
    "version": 3
   },
   "file_extension": ".py",
   "mimetype": "text/x-python",
   "name": "python",
   "nbconvert_exporter": "python",
   "pygments_lexer": "ipython3",
   "version": "3.9.0"
  },
  "vscode": {
   "interpreter": {
    "hash": "6cf8df3ff69f85f626faf55c10df6fe2cb9d1236b4dc73844ee4dc01369c2c99"
   }
  }
 },
 "nbformat": 4,
 "nbformat_minor": 5
}